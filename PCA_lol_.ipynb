{
 "cells": [
  {
   "cell_type": "code",
   "execution_count": 13,
   "metadata": {
    "pycharm": {
     "is_executing": false
    }
   },
   "outputs": [
    {
     "name": "stdout",
     "text": [
      "(147, 12)\n",
      "      類型  攻擊距離   魔力  魔力回復  魔力提升  生命提升     生命  生命回復  移動速度  物理攻擊  物理防禦  魔法防禦\n",
      "名稱                                                                        \n",
      "厄薩斯   鬥士   175    0   0.0     0    90  580.0   3.0   345  60.0  38.0  32.1\n",
      "阿璃    法師   550  418   0.8    25    92  526.0   6.5   330  53.0  20.9  30.0\n",
      "阿卡莉   刺客   125  200   0.0     0    95  575.0   8.0   345  62.4  23.0  37.0\n",
      "亞歷斯塔  坦克   125  350   0.8    40   106  573.4   8.5   330  61.1  44.0  32.1\n",
      "阿姆姆   坦克   125  287   0.5    40    84  613.1   9.0   335  53.4  33.0  32.1\n"
     ],
     "output_type": "stream"
    },
    {
     "data": {
      "text/plain": "<pandas.io.formats.style.Styler at 0x7f91b1135350>",
      "text/html": "<style  type=\"text/css\" >\n</style><table id=\"T_29ea182c_4819_11ea_91fb_acde48001122\" ><thead>    <tr>        <th class=\"blank level0\" ></th>        <th class=\"col_heading level0 col0\" >攻擊距離</th>        <th class=\"col_heading level0 col1\" >魔力</th>        <th class=\"col_heading level0 col2\" >魔力回復</th>        <th class=\"col_heading level0 col3\" >魔力提升</th>        <th class=\"col_heading level0 col4\" >生命提升</th>        <th class=\"col_heading level0 col5\" >生命</th>        <th class=\"col_heading level0 col6\" >生命回復</th>        <th class=\"col_heading level0 col7\" >移動速度</th>        <th class=\"col_heading level0 col8\" >物理攻擊</th>        <th class=\"col_heading level0 col9\" >物理防禦</th>        <th class=\"col_heading level0 col10\" >魔法防禦</th>    </tr></thead><tbody>\n                <tr>\n                        <th id=\"T_29ea182c_4819_11ea_91fb_acde48001122level0_row0\" class=\"row_heading level0 row0\" >mean</th>\n                        <td id=\"T_29ea182c_4819_11ea_91fb_acde48001122row0_col0\" class=\"data row0 col0\" >326.39</td>\n                        <td id=\"T_29ea182c_4819_11ea_91fb_acde48001122row0_col1\" class=\"data row0 col1\" >309.66</td>\n                        <td id=\"T_29ea182c_4819_11ea_91fb_acde48001122row0_col2\" class=\"data row0 col2\" >0.57</td>\n                        <td id=\"T_29ea182c_4819_11ea_91fb_acde48001122row0_col3\" class=\"data row0 col3\" >33.03</td>\n                        <td id=\"T_29ea182c_4819_11ea_91fb_acde48001122row0_col4\" class=\"data row0 col4\" >88.52</td>\n                        <td id=\"T_29ea182c_4819_11ea_91fb_acde48001122row0_col5\" class=\"data row0 col5\" >555.83</td>\n                        <td id=\"T_29ea182c_4819_11ea_91fb_acde48001122row0_col6\" class=\"data row0 col6\" >6.60</td>\n                        <td id=\"T_29ea182c_4819_11ea_91fb_acde48001122row0_col7\" class=\"data row0 col7\" >336.31</td>\n                        <td id=\"T_29ea182c_4819_11ea_91fb_acde48001122row0_col8\" class=\"data row0 col8\" >59.37</td>\n                        <td id=\"T_29ea182c_4819_11ea_91fb_acde48001122row0_col9\" class=\"data row0 col9\" >30.06</td>\n                        <td id=\"T_29ea182c_4819_11ea_91fb_acde48001122row0_col10\" class=\"data row0 col10\" >31.13</td>\n            </tr>\n            <tr>\n                        <th id=\"T_29ea182c_4819_11ea_91fb_acde48001122level0_row1\" class=\"row_heading level0 row1\" >std</th>\n                        <td id=\"T_29ea182c_4819_11ea_91fb_acde48001122row1_col0\" class=\"data row1 col0\" >196.52</td>\n                        <td id=\"T_29ea182c_4819_11ea_91fb_acde48001122row1_col1\" class=\"data row1 col1\" >115.40</td>\n                        <td id=\"T_29ea182c_4819_11ea_91fb_acde48001122row1_col2\" class=\"data row1 col2\" >0.28</td>\n                        <td id=\"T_29ea182c_4819_11ea_91fb_acde48001122row1_col3\" class=\"data row1 col3\" >16.62</td>\n                        <td id=\"T_29ea182c_4819_11ea_91fb_acde48001122row1_col4\" class=\"data row1 col4\" >6.65</td>\n                        <td id=\"T_29ea182c_4819_11ea_91fb_acde48001122row1_col5\" class=\"data row1 col5\" >37.33</td>\n                        <td id=\"T_29ea182c_4819_11ea_91fb_acde48001122row1_col6\" class=\"data row1 col6\" >1.78</td>\n                        <td id=\"T_29ea182c_4819_11ea_91fb_acde48001122row1_col7\" class=\"data row1 col7\" >7.56</td>\n                        <td id=\"T_29ea182c_4819_11ea_91fb_acde48001122row1_col8\" class=\"data row1 col8\" >6.17</td>\n                        <td id=\"T_29ea182c_4819_11ea_91fb_acde48001122row1_col9\" class=\"data row1 col9\" >6.72</td>\n                        <td id=\"T_29ea182c_4819_11ea_91fb_acde48001122row1_col10\" class=\"data row1 col10\" >1.71</td>\n            </tr>\n    </tbody></table>"
     },
     "metadata": {},
     "output_type": "execute_result",
     "execution_count": 13
    }
   ],
   "source": [
    "%matplotlib inline\n",
    "import pandas as pd\n",
    "from IPython.display import display\n",
    "## 数据源\n",
    "df= pd.read_csv(\"https://raw.githubusercontent.com/leemengtaiwan/leemengtaiwan.github.io/dev/content/dataset/lol_champion_stats.tsv\",sep=\"\\t\",index_col = \"名稱\")\n",
    "print(df.shape)\n",
    "print(df.head(5))\n",
    "## 只查看均值和标准差\n",
    "df_stats = df.describe().loc[['mean','std']]\n",
    "df_stats.style.format(\"{:.2f}\")"
   ]
  },
  {
   "cell_type": "code",
   "execution_count": null,
   "metadata": {
    "pycharm": {
     "name": "#%% md \n"
    }
   },
   "outputs": [],
   "source": [
    "![PCA](https://leemeng.tw/essence-of-principal-component-analysis.html)\n",
    "\n"
   ]
  },
  {
   "cell_type": "code",
   "execution_count": 3,
   "metadata": {
    "pycharm": {
     "is_executing": false,
     "name": "#%%\n"
    }
   },
   "outputs": [
    {
     "name": "stdout",
     "output_type": "stream",
     "text": [
      "x.shape: (2, 20) \n",
      "\n",
      "[[ 2.89  0.32  5.8  -6.52  3.94 -4.21  0.45  2.14  1.3  -4.98 -2.4  -3.1\n",
      "   0.69 -1.59 -3.64 -0.24  6.81  4.63 -2.24 -0.06]\n",
      " [ 1.52  0.91  1.52 -0.88 -0.03 -1.26 -0.25  0.96 -0.89 -0.45 -0.88 -1.12\n",
      "  -0.86  0.13 -1.53  0.51  2.66  1.28 -0.14 -1.19]]\n"
     ]
    }
   ],
   "source": [
    "import numpy as np\n",
    "from numpy.testing import assert_almost_equal\n",
    "## 显示小数点后两位\n",
    "np.set_printoptions(precision=2)\n",
    "# 随机生成数据\n",
    "rng = np.random.RandomState(1)\n",
    "\n",
    "#初始化数据减去平均\n",
    "W = rng.rand(2,2)\n",
    "x_Normal = rng.normal(scale=5,size=(2,20))\n",
    "#矩阵相乘\n",
    "x_orig = W @ x_Normal\n",
    "#?\n",
    "x_Mean = x_orig.mean(axis=1)[:, np.newaxis]\n",
    "x = x_orig-x_Mean\n",
    "mean = x.mean(axis=1)\n",
    "\n",
    "\n",
    "# 测试numbercial相等，确保样本平均为0\n",
    "assert_almost_equal(0,mean)\n",
    "print('x.shape:',x.shape,'\\n')\n",
    "print(x)"
   ]
  },
  {
   "cell_type": "code",
   "execution_count": 4,
   "metadata": {},
   "outputs": [
    {
     "data": {
      "text/plain": [
       "array([2.89, 1.52])"
      ]
     },
     "execution_count": 4,
     "metadata": {},
     "output_type": "execute_result"
    }
   ],
   "source": [
    "# 考虑到目前的数据格式是（n_feature,n_sampele）,转置为（n_sample,n_feature）\n",
    "# 也就是，行为sample，列是不同的特征属性\n",
    "# 一行为一个样本，索引行从0开始\n",
    "x[:,0]"
   ]
  },
  {
   "cell_type": "code",
   "execution_count": 9,
   "metadata": {},
   "outputs": [
    {
     "data": {
      "text/plain": [
       "array([2.89, 1.52])"
      ]
     },
     "execution_count": 9,
     "metadata": {},
     "output_type": "execute_result"
    }
   ],
   "source": [
    "assert_almost_equal(x[:,0],x.T[0])\n",
    "x.T[:,0]"
   ]
  },
  {
   "cell_type": "code",
   "execution_count": 11,
   "metadata": {},
   "outputs": [
    {
     "data": {
      "text/plain": [
       "array([[ 2.89,  0.32,  5.8 , -6.52,  3.94, -4.21],\n",
       "       [ 1.52,  0.91,  1.52, -0.88, -0.03, -1.26]])"
      ]
     },
     "execution_count": 11,
     "metadata": {},
     "output_type": "execute_result"
    }
   ],
   "source": [
    "x[:,:6]"
   ]
  },
  {
   "cell_type": "markdown",
   "metadata": {},
   "source": [
    "<video controls src=\"https://leemeng.tw/images/pca/IndexingDataMatrixScene.mp4\" />"
   ]
  },
  {
   "cell_type": "markdown",
   "metadata": {
    "pycharm": {
     "name": "#%% md\n"
    }
   },
   "source": [
    "<video controls src=\"https://leemeng.tw/images/pca/PlotDataOnCartesianBasisScene.mp4\" />"
   ]
  },
  {
   "cell_type": "code",
   "execution_count": 12,
   "outputs": [
    {
     "data": {
      "text/plain": "<matplotlib.collections.PathCollection at 0x7f91b10bd850>"
     },
     "metadata": {},
     "output_type": "execute_result",
     "execution_count": 12
    }
   ],
   "source": [
    "import matplotlib.pyplot as plt\n",
    "plt.scatter(x[0],x[1])\n"
   ],
   "metadata": {
    "collapsed": false,
    "pycharm": {
     "name": "#%%\n",
     "is_executing": false
    }
   }
  },
  {
   "cell_type": "code",
   "execution_count": 16,
   "outputs": [
    {
     "data": {
      "text/plain": "<Figure size 432x288 with 1 Axes>",
      "image/png": "[encoded data removed]"
     },
     "metadata": {
      "needs_background": "light"
     },
     "output_type": "display_data"
    }
   ],
   "source": [
    "import seaborn as sns\n",
    "sns.scatterplot(x[0,:],x[1, :])\n",
    "plt.show()"
   ],
   "metadata": {
    "collapsed": false,
    "pycharm": {
     "name": "#%%\n",
     "is_executing": false
    }
   }
  },
  {
   "cell_type": "markdown",
   "source": [
    "<video controls src=\"https://leemeng.tw/images/pca/Project2Dto1DEmbeddedNumberLine.mp4\" />\n",
    "\n"
   ],
   "metadata": {
    "collapsed": false
   }
  },
  {
   "cell_type": "code",
   "execution_count": 19,
   "outputs": [
    {
     "name": "stdout",
     "text": [
      "[0.97 0.25]\n",
      "[[0.97 0.25]]\n",
      "[[ 3.18  0.53  5.99 -6.53]]\n"
     ],
     "output_type": "stream"
    }
   ],
   "source": [
    "v = np.array([0.9691344,0.246533])\n",
    "print(v)\n",
    "assert_almost_equal(1,np.linalg.norm(v))\n",
    "# 使用v 建立一个投影矩阵p1\n",
    "p1 = v[np.newaxis,:]\n",
    "print(p1)\n",
    "l = p1 @ x\n",
    "print(l[:,:4])\n",
    "\n"
   ],
   "metadata": {
    "collapsed": false,
    "pycharm": {
     "name": "#%%\n",
     "is_executing": false
    }
   }
  },
  {
   "cell_type": "markdown",
   "source": [
    "> 事實上這就是線性降維與 PCA 的核心精神：將原始數據拆解成更具代表性的主成分，並以其作為新的基準，重新描述數據"
   ],
   "metadata": {
    "collapsed": false
   }
  },
  {
   "cell_type": "code",
   "execution_count": null,
   "outputs": [],
   "source": [
    "\n"
   ],
   "metadata": {
    "collapsed": false,
    "pycharm": {
     "name": "#%%\n"
    }
   }
  }
 ],
 "metadata": {
  "kernelspec": {
   "display_name": "Python 3",
   "language": "python",
   "name": "python3"
  },
  "language_info": {
   "codemirror_mode": {
    "name": "ipython",
    "version": 3
   },
   "file_extension": ".py",
   "mimetype": "text/x-python",
   "name": "python",
   "nbconvert_exporter": "python",
   "pygments_lexer": "ipython3",
   "version": "3.7.4"
  },
  "pycharm": {
   "stem_cell": {
    "cell_type": "raw",
    "source": [],
    "metadata": {
     "collapsed": false
    }
   }
  }
 },
 "nbformat": 4,
 "nbformat_minor": 1
}