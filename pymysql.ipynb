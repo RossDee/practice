{
 "cells": [
  {
   "cell_type": "code",
   "execution_count": 1,
   "metadata": {
    "collapsed": true,
    "pycharm": {
     "is_executing": false
    }
   },
   "outputs": [
    {
     "name": "stdout",
     "text": [
      "database version: 8.0.19\n"
     ],
     "output_type": "stream"
    }
   ],
   "source": [
    "import pymysql\n",
    " \n",
    "# 打开数据库连接\n",
    "conn = pymysql.connect('localhost', 'rdi', 'rdi_PWD_123', 'retail_db')\n",
    " \n",
    "# 使用cursor()方法创建一个游标对象\n",
    "cursor = conn.cursor()\n",
    " \n",
    "# 使用execute()方法执行SQL查询\n",
    "cursor.execute('SELECT VERSION()')\n",
    " \n",
    "# 使用fetchone()方法获取单条数据\n",
    "data = cursor.fetchone()\n",
    " \n",
    "# 打印\n",
    "print('database version: %s' % data)\n",
    " \n",
    "# 关闭数据库连接\n",
    "conn.close()\n",
    " \n",
    "# 结果\n",
    "# database version: 5.5.20\n"
   ]
  }
 ],
 "metadata": {
  "kernelspec": {
   "display_name": "Python 3",
   "language": "python",
   "name": "python3"
  },
  "language_info": {
   "codemirror_mode": {
    "name": "ipython",
    "version": 2
   },
   "file_extension": ".py",
   "mimetype": "text/x-python",
   "name": "python",
   "nbconvert_exporter": "python",
   "pygments_lexer": "ipython2",
   "version": "2.7.6"
  },
  "pycharm": {
   "stem_cell": {
    "cell_type": "raw",
    "source": [],
    "metadata": {
     "collapsed": false
    }
   }
  }
 },
 "nbformat": 4,
 "nbformat_minor": 0
}